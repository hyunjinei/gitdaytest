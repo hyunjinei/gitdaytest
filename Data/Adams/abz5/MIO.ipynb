{
 "cells": [
  {
   "cell_type": "code",
   "outputs": [],
   "source": [
    "import os\n",
    "import pandas as pd\n",
    "import sys\n",
    "from Config.Run_Config import Run_Config\n",
    "from GA_pyGAD.GA import Individual\n",
    "# class Solution():\n",
    "from abz5 import Dataset\n",
    "dataset = Dataset()"
   ],
   "metadata": {
    "collapsed": false,
    "ExecuteTime": {
     "end_time": "2024-03-13T08:12:43.392473Z",
     "start_time": "2024-03-13T08:12:42.250945Z"
    }
   },
   "id": "8af91a12c4fa595",
   "execution_count": 1
  },
  {
   "cell_type": "code",
   "outputs": [
    {
     "data": {
      "text/plain": "'abz5'"
     },
     "execution_count": 2,
     "metadata": {},
     "output_type": "execute_result"
    }
   ],
   "source": [
    "dataset.name"
   ],
   "metadata": {
    "collapsed": false,
    "ExecuteTime": {
     "end_time": "2024-03-13T08:12:44.032943Z",
     "start_time": "2024-03-13T08:12:44.025777Z"
    }
   },
   "id": "52683b6990e029f4",
   "execution_count": 2
  },
  {
   "cell_type": "code",
   "outputs": [
    {
     "data": {
      "text/plain": "[8, 6, 2, 7, 4, 9, 4, 7, 0, 1]"
     },
     "execution_count": 3,
     "metadata": {},
     "output_type": "execute_result"
    }
   ],
   "source": [
    "import numpy as np\n",
    "m_dict = dataset.m_dict\n",
    "m_dict[0] \n",
    "\n",
    "# m_dict[0][0] = 8\n",
    "# 0번째 machine의 경우, Job1의 등장 순서는 9번째라는 뜻"
   ],
   "metadata": {
    "collapsed": false,
    "ExecuteTime": {
     "end_time": "2024-03-13T08:12:44.593558Z",
     "start_time": "2024-03-13T08:12:44.577169Z"
    }
   },
   "id": "584a35c1dcf0e227",
   "execution_count": 3
  },
  {
   "cell_type": "code",
   "outputs": [
    {
     "data": {
      "text/plain": "(array([4, 9], dtype=int64),)"
     },
     "execution_count": 4,
     "metadata": {},
     "output_type": "execute_result"
    }
   ],
   "source": [
    "m_dict = np.array(m_dict)\n",
    "# m_dict = [machine 번호, Job 번호, (Job & Order)]\n",
    "m30 = np.where(m_dict[3,:] == 0)\n",
    "m30 # M4를 1번째로 쓰는 Job들은 (4, 9), 즉 Job5와 Job10임"
   ],
   "metadata": {
    "collapsed": false,
    "ExecuteTime": {
     "end_time": "2024-03-13T08:13:57.256493Z",
     "start_time": "2024-03-13T08:13:57.247183Z"
    }
   },
   "id": "93f5bd5130decee1",
   "execution_count": 4
  },
  {
   "cell_type": "markdown",
   "source": [],
   "metadata": {
    "collapsed": false
   },
   "id": "ad0fd624ac5e845c"
  },
  {
   "cell_type": "code",
   "outputs": [
    {
     "data": {
      "text/plain": "(array([], dtype=int64),)"
     },
     "execution_count": 11,
     "metadata": {},
     "output_type": "execute_result"
    }
   ],
   "source": [
    "m20 = np.where(m_dict[2,:]==0)\n",
    "m20"
   ],
   "metadata": {
    "collapsed": false,
    "ExecuteTime": {
     "end_time": "2024-03-13T08:18:20.027513Z",
     "start_time": "2024-03-13T08:18:20.013014Z"
    }
   },
   "id": "1bddd4cd8e48578c",
   "execution_count": 11
  },
  {
   "cell_type": "code",
   "outputs": [
    {
     "data": {
      "text/plain": "list"
     },
     "execution_count": 15,
     "metadata": {},
     "output_type": "execute_result"
    }
   ],
   "source": [
    "type(m20[0].tolist())"
   ],
   "metadata": {
    "collapsed": false,
    "ExecuteTime": {
     "end_time": "2024-03-13T08:19:01.543833Z",
     "start_time": "2024-03-13T08:19:01.535509Z"
    }
   },
   "id": "684cda7f6acf4584",
   "execution_count": 15
  },
  {
   "cell_type": "code",
   "outputs": [
    {
     "data": {
      "text/plain": "'0'"
     },
     "execution_count": 6,
     "metadata": {},
     "output_type": "execute_result"
    }
   ],
   "source": [
    "k = 'M0'\n",
    "k[1:]"
   ],
   "metadata": {
    "collapsed": false,
    "ExecuteTime": {
     "end_time": "2024-03-13T08:16:46.004890Z",
     "start_time": "2024-03-13T08:16:45.994758Z"
    }
   },
   "id": "8bbfea6d1e9e9382",
   "execution_count": 6
  },
  {
   "cell_type": "code",
   "outputs": [],
   "source": [
    "# 초기화할 2차원 딕셔너리\n",
    "result_dict = {'M'+str(i) : {} for i in range(dataset.n_machine)}\n",
    "\n",
    "# 각 딕셔너리에 대해 0부터 9까지의 키를 가지는 딕셔너리를 빈 리스트로 초기화\n",
    "for key1 in result_dict:\n",
    "    result_dict[key1] = {str(i): np.where(m_dict[int(key1[1:]),:] == i)[0].tolist() for i in range(10)}"
   ],
   "metadata": {
    "collapsed": false,
    "ExecuteTime": {
     "end_time": "2024-03-13T08:19:13.344085Z",
     "start_time": "2024-03-13T08:19:13.335904Z"
    }
   },
   "id": "773f68d6f31422b2",
   "execution_count": 16
  },
  {
   "cell_type": "code",
   "outputs": [
    {
     "data": {
      "text/plain": "{'0': [8],\n '1': [9],\n '2': [2],\n '3': [],\n '4': [4, 6],\n '5': [],\n '6': [1],\n '7': [3, 7],\n '8': [0],\n '9': [5]}"
     },
     "execution_count": 21,
     "metadata": {},
     "output_type": "execute_result"
    }
   ],
   "source": [
    "result_dict['M0']"
   ],
   "metadata": {
    "collapsed": false,
    "ExecuteTime": {
     "end_time": "2024-03-13T08:29:09.703578Z",
     "start_time": "2024-03-13T08:29:09.691185Z"
    }
   },
   "id": "722a07b46c6b8691",
   "execution_count": 21
  },
  {
   "cell_type": "code",
   "outputs": [
    {
     "name": "stdout",
     "output_type": "stream",
     "text": [
      "4\n",
      "6\n",
      "4\n",
      "8\n",
      "16\n",
      "6\n",
      "8\n",
      "12\n",
      "16\n",
      "4\n",
      "\n",
      "452984832\n"
     ]
    }
   ],
   "source": [
    "def multiply_nonzero_elements_dict(dct):\n",
    "    lst = [len(dct[key]) for key in dct]\n",
    "    result = multiply_nonzero_elements(lst)\n",
    "    return result\n",
    "\n",
    "def multiply_nonzero_elements(lst):\n",
    "    result = 1\n",
    "    for element in lst:\n",
    "        if element != 0:\n",
    "            result *= element\n",
    "    return result\n",
    "\n",
    "num = []\n",
    "for i in range(10):\n",
    "    num.append(multiply_nonzero_elements_dict(result_dict['M'+str(i)]))\n",
    "    print(multiply_nonzero_elements_dict(result_dict['M'+str(i)]))\n",
    "print()\n",
    "print(multiply_nonzero_elements(num))"
   ],
   "metadata": {
    "collapsed": false,
    "ExecuteTime": {
     "end_time": "2024-03-13T08:33:21.090631Z",
     "start_time": "2024-03-13T08:33:21.081322Z"
    }
   },
   "id": "b20876b653fd3b9d",
   "execution_count": 26
  },
  {
   "cell_type": "code",
   "outputs": [
    {
     "data": {
      "text/plain": "[8, 9, 2, 6, 4, 1, 7, 3, 0, 5]"
     },
     "execution_count": 27,
     "metadata": {},
     "output_type": "execute_result"
    }
   ],
   "source": [
    "import random\n",
    "mio = []\n",
    "for key in result_dict['M0']:\n",
    "    num = len(result_dict['M0'][key])\n",
    "    if num == 0 :\n",
    "        pass\n",
    "    elif num == 1:\n",
    "        mio += result_dict['M0'][key]\n",
    "    else:\n",
    "        random.shuffle( result_dict['M0'][key])\n",
    "        mio +=  result_dict['M0'][key]\n",
    "mio\n",
    "        \n",
    "        "
   ],
   "metadata": {
    "collapsed": false,
    "ExecuteTime": {
     "end_time": "2024-03-13T08:37:49.054347Z",
     "start_time": "2024-03-13T08:37:49.033462Z"
    }
   },
   "id": "e3cf6dfc0ee16fce",
   "execution_count": 27
  },
  {
   "cell_type": "code",
   "outputs": [],
   "source": [
    "# 처음부터 08, 19, 22, 44, 46, ... 이런식으로 정보를 저장할까? 그렇게 하면 나중에 mio로부터 individual을 생성하는 게 쉬울지도 모름.\n",
    "# 일단은 이 방식이 효과적인걸 증명하는게 먼저인 것 같다."
   ],
   "metadata": {
    "collapsed": false
   },
   "id": "1efab24925dec190"
  }
 ],
 "metadata": {
  "kernelspec": {
   "display_name": "Python 3",
   "language": "python",
   "name": "python3"
  },
  "language_info": {
   "codemirror_mode": {
    "name": "ipython",
    "version": 2
   },
   "file_extension": ".py",
   "mimetype": "text/x-python",
   "name": "python",
   "nbconvert_exporter": "python",
   "pygments_lexer": "ipython2",
   "version": "2.7.6"
  }
 },
 "nbformat": 4,
 "nbformat_minor": 5
}
