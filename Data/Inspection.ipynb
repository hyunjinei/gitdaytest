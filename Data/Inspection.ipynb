{
 "cells": [
  {
   "cell_type": "code",
   "execution_count": 2,
   "id": "initial_id",
   "metadata": {
    "ExecuteTime": {
     "end_time": "2024-05-09T05:56:14.315962Z",
     "start_time": "2024-05-09T05:56:14.297013Z"
    },
    "collapsed": true
   },
   "outputs": [
    {
     "ename": "NameError",
     "evalue": "name '__file__' is not defined",
     "output_type": "error",
     "traceback": [
      "\u001b[1;31m---------------------------------------------------------------------------\u001b[0m",
      "\u001b[1;31mNameError\u001b[0m                                 Traceback (most recent call last)",
      "Cell \u001b[1;32mIn[2], line 3\u001b[0m\n\u001b[0;32m      1\u001b[0m \u001b[38;5;28;01mimport\u001b[39;00m \u001b[38;5;21;01mos\u001b[39;00m\n\u001b[0;32m      2\u001b[0m \u001b[38;5;28;01mimport\u001b[39;00m \u001b[38;5;21;01msys\u001b[39;00m\n\u001b[1;32m----> 3\u001b[0m sys\u001b[38;5;241m.\u001b[39mpath\u001b[38;5;241m.\u001b[39mappend(os\u001b[38;5;241m.\u001b[39mpath\u001b[38;5;241m.\u001b[39mdirname(os\u001b[38;5;241m.\u001b[39mpath\u001b[38;5;241m.\u001b[39mdirname(os\u001b[38;5;241m.\u001b[39mpath\u001b[38;5;241m.\u001b[39mabspath(\u001b[38;5;18m__file__\u001b[39m))))\n\u001b[0;32m      4\u001b[0m \u001b[38;5;28;01mimport\u001b[39;00m \u001b[38;5;21;01mnumpy\u001b[39;00m \u001b[38;5;28;01mas\u001b[39;00m \u001b[38;5;21;01mnp\u001b[39;00m\n\u001b[0;32m      5\u001b[0m \u001b[38;5;28;01mfrom\u001b[39;00m \u001b[38;5;21;01mData\u001b[39;00m\u001b[38;5;21;01m.\u001b[39;00m\u001b[38;5;21;01mFT\u001b[39;00m\u001b[38;5;21;01m.\u001b[39;00m\u001b[38;5;21;01mft06\u001b[39;00m\u001b[38;5;21;01m.\u001b[39;00m\u001b[38;5;21;01mft06\u001b[39;00m \u001b[38;5;28;01mimport\u001b[39;00m Dataset\n",
      "\u001b[1;31mNameError\u001b[0m: name '__file__' is not defined"
     ]
    }
   ],
   "source": [
    "\n",
    "import numpy as np\n",
    "from Data.FT.ft06.ft06 import Dataset\n",
    "\n",
    "dataset = Dataset()\n",
    "dataset.op_data"
   ]
  },
  {
   "cell_type": "code",
   "execution_count": 12,
   "id": "d00d0de4dd0abc17",
   "metadata": {
    "ExecuteTime": {
     "end_time": "2024-05-09T05:55:34.597909Z",
     "start_time": "2024-05-09T05:55:34.585934Z"
    },
    "collapsed": false
   },
   "outputs": [
    {
     "data": {
      "text/plain": [
       "(6, 6, 2)"
      ]
     },
     "execution_count": 12,
     "metadata": {},
     "output_type": "execute_result"
    }
   ],
   "source": [
    "data = np.array(dataset.op_data)\n",
    "data.shape"
   ]
  },
  {
   "cell_type": "code",
   "execution_count": 18,
   "id": "d51a41ee9b86df7d",
   "metadata": {
    "ExecuteTime": {
     "end_time": "2024-05-09T05:57:19.304542Z",
     "start_time": "2024-05-09T05:57:19.288580Z"
    },
    "collapsed": false
   },
   "outputs": [
    {
     "data": {
      "text/plain": [
       "array([[2, 1],\n",
       "       [1, 8],\n",
       "       [2, 5],\n",
       "       [1, 5],\n",
       "       [2, 9],\n",
       "       [1, 3]], dtype=int64)"
      ]
     },
     "execution_count": 18,
     "metadata": {},
     "output_type": "execute_result"
    }
   ],
   "source": [
    "data[:,0,:]"
   ]
  },
  {
   "cell_type": "code",
   "execution_count": 20,
   "id": "e8e1a1e481b512fb",
   "metadata": {
    "ExecuteTime": {
     "end_time": "2024-05-09T05:59:18.153634Z",
     "start_time": "2024-05-09T05:59:18.134680Z"
    },
    "collapsed": false
   },
   "outputs": [
    {
     "data": {
      "text/plain": [
       "array([1, 8], dtype=int64)"
      ]
     },
     "execution_count": 20,
     "metadata": {},
     "output_type": "execute_result"
    }
   ],
   "source": [
    "data[1,0,:]"
   ]
  },
  {
   "cell_type": "code",
   "execution_count": 21,
   "id": "85fbd87c93eaa02a",
   "metadata": {
    "ExecuteTime": {
     "end_time": "2024-05-09T06:00:23.658500Z",
     "start_time": "2024-05-09T06:00:23.652516Z"
    },
    "collapsed": false
   },
   "outputs": [
    {
     "name": "stdout",
     "output_type": "stream",
     "text": [
      "[0, 16, 15, 0, 0, 0]\n",
      "[8, 3, 5, 7, 0, 0]\n",
      "[0, 6, 5, 0, 15, 17]\n",
      "[19, 0, 0, 10, 0, 14]\n",
      "[13, 1, 0, 0, 12, 3]\n",
      "[0, 0, 1, 5, 13, 9]\n"
     ]
    }
   ],
   "source": [
    "machine = [0 for i in range(6)]\n",
    "MIO_upper_bound = 0\n",
    "for i in range(6):\n",
    "    for j in range(6):\n",
    "        machine[data[j,i,0]] += data[j,i,1]\n",
    "    print(machine)\n",
    "    MIO_upper_bound += max(machine)\n",
    "    machine = [0 for i in range(6)]"
   ]
  },
  {
   "cell_type": "code",
   "execution_count": 22,
   "id": "bfb7d5bd79e8ab18",
   "metadata": {
    "ExecuteTime": {
     "end_time": "2024-05-09T06:00:49.663044Z",
     "start_time": "2024-05-09T06:00:49.649080Z"
    },
    "collapsed": false
   },
   "outputs": [
    {
     "data": {
      "text/plain": [
       "86"
      ]
     },
     "execution_count": 22,
     "metadata": {},
     "output_type": "execute_result"
    }
   ],
   "source": [
    "MIO_upper_bound"
   ]
  },
  {
   "cell_type": "code",
   "execution_count": 25,
   "id": "2fd3ca09b2f3a0ac",
   "metadata": {
    "ExecuteTime": {
     "end_time": "2024-05-09T07:43:06.278744Z",
     "start_time": "2024-05-09T07:43:06.219232Z"
    },
    "collapsed": false
   },
   "outputs": [],
   "source": [
    "from Config.Run_Config import Run_Config\n",
    "from GA_geneticpython.objects import Individual\n",
    "\n",
    "config = Run_Config(dataset.n_job, dataset.n_machine, dataset.n_op,\n",
    "                    False, False, False,\n",
    "                    False, False, False)\n",
    "\n",
    "def custom_sort(num_list):\n",
    "    return sorted(num_list, key=lambda x: (x % 6, x // 6))\n",
    "    \n",
    "numbers = list(range(36))\n",
    "sorted_numbers = custom_sort(numbers)\n",
    "ind = Individual(config=config, seq=sorted_numbers, op_data=dataset.op_data)"
   ]
  },
  {
   "cell_type": "code",
   "execution_count": null,
   "id": "1f8abef361371b62",
   "metadata": {
    "collapsed": false
   },
   "outputs": [],
   "source": []
  },
  {
   "cell_type": "code",
   "execution_count": 26,
   "id": "ac82ddcbffb42c97",
   "metadata": {
    "ExecuteTime": {
     "end_time": "2024-05-09T07:43:11.875461Z",
     "start_time": "2024-05-09T07:43:11.858052Z"
    },
    "collapsed": false
   },
   "outputs": [
    {
     "data": {
      "text/plain": [
       "60"
      ]
     },
     "execution_count": 26,
     "metadata": {},
     "output_type": "execute_result"
    }
   ],
   "source": [
    "ind.makespan"
   ]
  },
  {
   "cell_type": "code",
   "execution_count": 1,
   "id": "67b240700c523b3a",
   "metadata": {
    "ExecuteTime": {
     "end_time": "2024-05-09T08:07:22.794347Z",
     "start_time": "2024-05-09T08:07:21.151952Z"
    },
    "collapsed": false
   },
   "outputs": [
    {
     "name": "stdout",
     "output_type": "stream",
     "text": [
      "[148, 303, 129, 0, 0, 0, 0, 0, 0, 0]\n",
      "[227, 149, 185, 0, 0, 0, 0, 0, 0, 0]\n",
      "[71, 68, 70, 176, 75, 52, 0, 0, 0, 0]\n",
      "[0, 0, 87, 131, 99, 186, 7, 0, 0, 11]\n",
      "[0, 0, 85, 95, 81, 0, 41, 0, 202, 0]\n",
      "[0, 28, 0, 0, 69, 42, 88, 0, 52, 159]\n",
      "[47, 0, 0, 0, 0, 47, 148, 97, 40, 32]\n",
      "[0, 0, 0, 150, 0, 46, 154, 194, 89, 48]\n",
      "[0, 0, 0, 0, 122, 0, 0, 138, 44, 139]\n",
      "[0, 0, 0, 79, 88, 43, 53, 70, 104, 21]\n",
      "MIO upper bound :  1838\n",
      "MIO makespan :  1319\n"
     ]
    }
   ],
   "source": [
    "import numpy as np\n",
    "from Data.FT.ft10.ft10 import Dataset\n",
    "from Config.Run_Config import Run_Config\n",
    "from GA_geneticpython.objects import Individual\n",
    "\n",
    "\n",
    "dataset = Dataset()\n",
    "data = np.array(dataset.op_data)\n",
    "machine = [0 for i in range(dataset.n_machine)]\n",
    "MIO_upper_bound = 0\n",
    "for i in range(dataset.n_machine):\n",
    "    for j in range(dataset.n_job):\n",
    "        machine[data[j,i,0]] += data[j,i,1]\n",
    "    print(machine)\n",
    "    MIO_upper_bound += max(machine)\n",
    "    machine = [0 for i in range(dataset.n_machine)]\n",
    "    \n",
    "config = Run_Config(dataset.n_job, dataset.n_machine, dataset.n_op,\n",
    "                    False, False, False,\n",
    "                    False, False, False)\n",
    "\n",
    "def custom_sort(num_list):\n",
    "    return sorted(num_list, key=lambda x: (x % dataset.n_machine, x // dataset.n_machine))\n",
    "    \n",
    "numbers = list(range(dataset.n_machine * dataset.n_job))\n",
    "sorted_numbers = custom_sort(numbers)\n",
    "ind = Individual(config=config, seq=sorted_numbers, op_data=dataset.op_data)\n",
    "print('MIO upper bound : ', MIO_upper_bound)\n",
    "print('MIO makespan : ', ind.makespan)\n"
   ]
  },
  {
   "cell_type": "code",
   "execution_count": 1,
   "id": "10e091e7fefdeac9",
   "metadata": {
    "ExecuteTime": {
     "end_time": "2024-05-09T08:12:22.495725Z",
     "start_time": "2024-05-09T08:12:21.214654Z"
    },
    "collapsed": false
   },
   "outputs": [
    {
     "name": "stdout",
     "output_type": "stream",
     "text": [
      "[30, 86, 68, 0, 27, 82, 26, 76, 15, 0, 0, 0, 0, 50, 60]\n",
      "[54, 0, 0, 74, 48, 131, 0, 34, 0, 37, 31, 31, 60, 0, 15]\n",
      "[51, 0, 40, 67, 29, 35, 19, 0, 50, 59, 28, 66, 31, 28, 20]\n",
      "[0, 0, 62, 69, 11, 0, 93, 0, 86, 20, 35, 72, 58, 0, 0]\n",
      "[23, 24, 0, 0, 50, 25, 76, 20, 37, 0, 71, 0, 0, 118, 38]\n",
      "[33, 0, 0, 36, 85, 43, 127, 68, 12, 31, 35, 0, 12, 0, 58]\n",
      "[34, 0, 0, 0, 27, 31, 0, 55, 29, 11, 27, 22, 48, 62, 84]\n",
      "[48, 0, 108, 79, 0, 26, 0, 65, 29, 0, 0, 17, 34, 82, 0]\n",
      "[38, 49, 0, 61, 25, 15, 15, 65, 0, 73, 60, 28, 20, 40, 0]\n",
      "[20, 11, 67, 73, 0, 39, 0, 36, 0, 73, 0, 12, 76, 23, 22]\n",
      "[16, 99, 23, 0, 96, 0, 89, 46, 16, 26, 32, 50, 0, 0, 19]\n",
      "[0, 74, 0, 36, 85, 0, 0, 26, 12, 22, 44, 34, 11, 65, 49]\n",
      "[75, 169, 18, 34, 0, 27, 0, 31, 0, 40, 0, 38, 36, 0, 53]\n",
      "[12, 22, 26, 0, 15, 0, 0, 41, 64, 77, 44, 88, 35, 0, 54]\n",
      "[22, 0, 61, 0, 0, 57, 58, 0, 117, 48, 95, 0, 50, 20, 0]\n",
      "MIO upper bound :  1521\n",
      "MIO makespan :  1051\n"
     ]
    }
   ],
   "source": [
    "import numpy as np\n",
    "from Data.Adams.abz9.abz9 import Dataset\n",
    "# from Data.FT.ft20.ft20 import Dataset\n",
    "from Config.Run_Config import Run_Config\n",
    "from GA_geneticpython.objects import Individual\n",
    "\n",
    "\n",
    "dataset = Dataset()\n",
    "data = np.array(dataset.op_data)\n",
    "machine = [0 for i in range(dataset.n_machine)]\n",
    "MIO_upper_bound = 0\n",
    "for i in range(dataset.n_machine):\n",
    "    for j in range(dataset.n_job):\n",
    "        machine[data[j,i,0]] += data[j,i,1]\n",
    "    print(machine)\n",
    "    MIO_upper_bound += max(machine)\n",
    "    machine = [0 for i in range(dataset.n_machine)]\n",
    "    \n",
    "config = Run_Config(dataset.n_job, dataset.n_machine, dataset.n_op,\n",
    "                    False, False, False,\n",
    "                    False, False, False)\n",
    "\n",
    "def custom_sort(num_list):\n",
    "    return sorted(num_list, key=lambda x: (x % dataset.n_machine, x // dataset.n_machine))\n",
    "    \n",
    "numbers = list(range(dataset.n_machine * dataset.n_job))\n",
    "sorted_numbers = custom_sort(numbers)\n",
    "ind = Individual(config=config, seq=sorted_numbers, op_data=dataset.op_data)\n",
    "print('MIO upper bound : ', MIO_upper_bound)\n",
    "print('MIO makespan : ', ind.makespan)\n"
   ]
  },
  {
   "cell_type": "code",
   "execution_count": 35,
   "id": "8c9084a14fa46b7b",
   "metadata": {
    "ExecuteTime": {
     "end_time": "2024-05-09T07:56:36.469745Z",
     "start_time": "2024-05-09T07:56:35.500764Z"
    },
    "collapsed": false
   },
   "outputs": [
    {
     "name": "stdout",
     "output_type": "stream",
     "text": [
      "Random makespan :  1527\n",
      "Random makespan :  1493\n",
      "Random makespan :  1317\n",
      "Random makespan :  1518\n",
      "Random makespan :  1234\n",
      "Random makespan :  1309\n",
      "Random makespan :  1434\n",
      "Random makespan :  1357\n",
      "Random makespan :  1342\n",
      "Random makespan :  1330\n",
      "Random makespan :  1452\n",
      "Random makespan :  1383\n",
      "Random makespan :  1386\n",
      "Random makespan :  1431\n",
      "Random makespan :  1372\n",
      "Random makespan :  1449\n",
      "Random makespan :  1301\n",
      "Random makespan :  1508\n",
      "Random makespan :  1435\n",
      "Random makespan :  1398\n"
     ]
    }
   ],
   "source": [
    "import random\n",
    "for i in range(20):\n",
    "    random.shuffle(numbers)\n",
    "    ind = Individual(config=config, seq=numbers, op_data=dataset.op_data)\n",
    "    print('Random makespan : ', ind.makespan)\n"
   ]
  },
  {
   "cell_type": "code",
   "execution_count": 3,
   "id": "fd5de1bcd641c21e",
   "metadata": {
    "ExecuteTime": {
     "end_time": "2024-05-09T08:17:05.992764Z",
     "start_time": "2024-05-09T08:17:05.861863Z"
    },
    "collapsed": false
   },
   "outputs": [
    {
     "name": "stdout",
     "output_type": "stream",
     "text": [
      "Best makespan :  6021\n",
      "Worst makespan :  1051\n"
     ]
    }
   ],
   "source": [
    "import numpy as np\n",
    "from Data.Adams.abz9.abz9 import Dataset\n",
    "# from Data.FT.ft20.ft20 import Dataset\n",
    "from Config.Run_Config import Run_Config\n",
    "from GA_geneticpython.objects import Individual\n",
    "\n",
    "dataset = Dataset()\n",
    "data = np.array(dataset.op_data)\n",
    "machine = [0 for i in range(dataset.n_machine)]\n",
    "MIO_upper_bound = 0\n",
    "for i in range(dataset.n_machine):\n",
    "    for j in range(dataset.n_job):\n",
    "        machine[data[j,i,0]] += data[j,i,1]\n",
    "    # print(machine)\n",
    "    MIO_upper_bound += max(machine)\n",
    "    machine = [0 for i in range(dataset.n_machine)]\n",
    "    \n",
    "config = Run_Config(dataset.n_job, dataset.n_machine, dataset.n_op,\n",
    "                    False, False, False,\n",
    "                    False, False, False)\n",
    "config2 = Run_Config(dataset.n_job, dataset.n_machine, dataset.n_op,\n",
    "                    False, True, True,\n",
    "                    True, True, True)\n",
    "\n",
    "def custom_sort(num_list):\n",
    "    return sorted(num_list, key=lambda x: (x % dataset.n_machine, x // dataset.n_machine))\n",
    "\n",
    "numbers = list(range(dataset.n_machine * dataset.n_job))\n",
    "sorted_numbers = custom_sort(numbers)\n",
    "\n",
    "\n",
    "best_ind = Individual(config=config, seq=numbers, op_data=dataset.op_data)\n",
    "worst_ind = Individual(config=config, seq=sorted_numbers, op_data=dataset.op_data)\n",
    "print('Best makespan : ', best_ind.makespan)\n",
    "print('Worst makespan : ', worst_ind.makespan)"
   ]
  },
  {
   "cell_type": "code",
   "execution_count": 1,
   "id": "47d6d1786900cfb4",
   "metadata": {
    "ExecuteTime": {
     "end_time": "2024-05-17T05:05:58.580803Z",
     "start_time": "2024-05-17T05:05:50.145270Z"
    },
    "collapsed": false
   },
   "outputs": [
    {
     "data": {
      "image/png": "[encoded data removed]",
      "text/plain": [
       "<Figure size 1280x720 with 1 Axes>"
      ]
     },
     "metadata": {},
     "output_type": "display_data"
    },
    {
     "name": "stdout",
     "output_type": "stream",
     "text": [
      "[0, 10, 20, 30, 40, 50, 60, 70, 80, 90, 1, 11, 21, 31, 41, 51, 61, 71, 81, 91, 2, 12, 22, 32, 42, 52, 62, 72, 82, 92, 3, 13, 23, 33, 43, 53, 63, 73, 83, 93, 4, 14, 24, 34, 44, 54, 64, 74, 84, 94, 5, 15, 25, 35, 45, 55, 65, 75, 85, 95, 6, 16, 26, 36, 46, 56, 66, 76, 86, 96, 7, 17, 27, 37, 47, 57, 67, 77, 87, 97, 8, 18, 28, 38, 48, 58, 68, 78, 88, 98, 9, 19, 29, 39, 49, 59, 69, 79, 89, 99]\n",
      "MIO Upper bound :  1838\n",
      "MIO makespan :  1319\n",
      "Worst makespan :  3394\n"
     ]
    }
   ],
   "source": [
    "import numpy as np\n",
    "# from Data.Adams.abz8.abz8 import Dataset\n",
    "from Data.FT.ft10.ft10 import Dataset\n",
    "from Config.Run_Config import Run_Config\n",
    "from GA_geneticpython.objects import Individual\n",
    "\n",
    "dataset = Dataset()\n",
    "data = np.array(dataset.op_data)\n",
    "machine = [0 for i in range(dataset.n_machine)]\n",
    "MIO_upper_bound = 0\n",
    "for i in range(dataset.n_machine):\n",
    "    for j in range(dataset.n_job):\n",
    "        machine[data[j,i,0]] += data[j,i,1]\n",
    "    # print(machine)\n",
    "    MIO_upper_bound += max(machine)\n",
    "    machine = [0 for i in range(dataset.n_machine)]\n",
    "    \n",
    "config = Run_Config(dataset.n_job, dataset.n_machine, dataset.n_op,\n",
    "                    False, False, False,\n",
    "                    False, False, False)\n",
    "config2 = Run_Config(dataset.n_job, dataset.n_machine, dataset.n_op,\n",
    "                    False, True, True,\n",
    "                    True, True, True)\n",
    "\n",
    "def custom_sort(num_list):\n",
    "    return sorted(num_list, key=lambda x: (x % dataset.n_machine, x // dataset.n_machine))\n",
    "\n",
    "numbers = list(range(dataset.n_machine * dataset.n_job))\n",
    "sorted_numbers = custom_sort(numbers)\n",
    "\n",
    "\n",
    "best_ind = Individual(config=config2, seq=sorted_numbers, op_data=dataset.op_data)\n",
    "print(sorted_numbers)\n",
    "worst_ind = Individual(config=config, seq=numbers, op_data=dataset.op_data)\n",
    "print('MIO Upper bound : ', MIO_upper_bound)\n",
    "print('MIO makespan : ', best_ind.makespan)\n",
    "print('Worst makespan : ', worst_ind.makespan)"
   ]
  },
  {
   "cell_type": "code",
   "execution_count": 10,
   "id": "686420716dac864c",
   "metadata": {
    "ExecuteTime": {
     "end_time": "2024-05-09T08:20:40.295631Z",
     "start_time": "2024-05-09T08:19:54.729243Z"
    },
    "collapsed": false
   },
   "outputs": [
    {
     "data": {
      "image/png": "[encoded data removed]",
      "text/plain": [
       "<Figure size 1280x720 with 1 Axes>"
      ]
     },
     "metadata": {},
     "output_type": "display_data"
    }
   ],
   "source": [
    "best_ind = Individual(config=config2, seq=sorted_numbers, op_data=dataset.op_data)\n"
   ]
  },
  {
   "cell_type": "code",
   "execution_count": null,
   "id": "22f684213f743b",
   "metadata": {
    "collapsed": false
   },
   "outputs": [],
   "source": []
  }
 ],
 "metadata": {
  "kernelspec": {
   "display_name": "Python 3",
   "language": "python",
   "name": "python3"
  },
  "language_info": {
   "codemirror_mode": {
    "name": "ipython",
    "version": 3
   },
   "file_extension": ".py",
   "mimetype": "text/x-python",
   "name": "python",
   "nbconvert_exporter": "python",
   "pygments_lexer": "ipython3",
   "version": "3.11.9"
  }
 },
 "nbformat": 4,
 "nbformat_minor": 5
}
